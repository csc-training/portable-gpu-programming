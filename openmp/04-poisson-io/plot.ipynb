{
 "cells": [
  {
   "cell_type": "code",
   "execution_count": null,
   "id": "e271feab-681e-4ae5-827f-308ab8cc7be1",
   "metadata": {},
   "outputs": [],
   "source": [
    "%matplotlib ipympl\n",
    "import numpy as np\n",
    "import matplotlib.pyplot as plt\n",
    "import ipywidgets as widgets"
   ]
  },
  {
   "cell_type": "code",
   "execution_count": null,
   "id": "059c0c18-f2a9-430d-85dd-fdd0cc5914ce",
   "metadata": {},
   "outputs": [],
   "source": [
    "def read_array(filename):\n",
    "    with open(filename, \"rb\") as f:\n",
    "        # Read the size\n",
    "        count = np.fromfile(f, dtype=np.uint64, count=1)[0]\n",
    "\n",
    "        # Read the array\n",
    "        array = np.fromfile(f, dtype=np.float64, count=count)\n",
    "\n",
    "    n = int(np.sqrt(count))\n",
    "    assert n**2 == count\n",
    "    return array.reshape(n, n)\n"
   ]
  },
  {
   "cell_type": "code",
   "execution_count": null,
   "id": "4b596f92-ff92-475e-97a7-2984cf15d455",
   "metadata": {},
   "outputs": [],
   "source": [
    "f = read_array(\"f.bin\")\n",
    "u = read_array(\"u_end.bin\")\n",
    "fnames = []\n",
    "us = []\n",
    "for i in range(0, 5001, 1000):\n",
    "    fname = f\"u{i:06d}.bin\"\n",
    "    fnames.append(fname)\n",
    "    us.append(read_array(fname))"
   ]
  },
  {
   "cell_type": "code",
   "execution_count": null,
   "id": "b0e64cf3-5ff7-4a98-8887-569026087a5a",
   "metadata": {},
   "outputs": [],
   "source": [
    "plt.figure(1); plt.clf(); plt.gcf().set_size_inches(15, 7);\n",
    "\n",
    "plt.subplot(1, 2, 1)\n",
    "plt.imshow(f, cmap='viridis', interpolation='nearest')\n",
    "plt.axhline(f.shape[0] // 2, color='k')\n",
    "plt.axvline(f.shape[1] // 2, color='k')\n",
    "plt.xlabel('x')\n",
    "plt.ylabel('y')\n",
    "plt.title('f')\n",
    "plt.colorbar()\n",
    "\n",
    "plt.subplot(1, 2, 2)\n",
    "plt.imshow(u, cmap='viridis', interpolation='nearest')\n",
    "plt.axhline(u.shape[0] // 2, color='k')\n",
    "plt.axvline(u.shape[1] // 2, color='k')\n",
    "plt.xlabel('x')\n",
    "plt.ylabel('y')\n",
    "plt.title('u end')\n",
    "plt.colorbar()\n",
    "\n",
    "plt.show()"
   ]
  },
  {
   "cell_type": "code",
   "execution_count": null,
   "id": "78b6ef6e-7361-4b13-b877-0c485bd5aef1",
   "metadata": {},
   "outputs": [],
   "source": [
    "plt.figure(2); plt.clf(); plt.gcf().set_size_inches(7, 7);\n",
    "\n",
    "def show_image(index):\n",
    "    plt.clf()\n",
    "    plt.imshow(us[index], cmap='viridis', interpolation='nearest', vmin=-100, vmax=100)\n",
    "    plt.axhline(u.shape[0] // 2, color='k')\n",
    "    plt.axvline(u.shape[1] // 2, color='k')\n",
    "    plt.xlabel('x')\n",
    "    plt.ylabel('y')\n",
    "    plt.title(fnames[index])\n",
    "    plt.colorbar()\n",
    "    plt.show()\n",
    "\n",
    "slider = widgets.IntSlider(value=0, min=0, max=len(us)-1, step=1, description='Image Index')\n",
    "widgets.interact(show_image, index=slider)"
   ]
  }
 ],
 "metadata": {
  "kernelspec": {
   "display_name": "Python 3 (ipykernel)",
   "language": "python",
   "name": "python3"
  },
  "language_info": {
   "codemirror_mode": {
    "name": "ipython",
    "version": 3
   },
   "file_extension": ".py",
   "mimetype": "text/x-python",
   "name": "python",
   "nbconvert_exporter": "python",
   "pygments_lexer": "ipython3",
   "version": "3.12.12"
  }
 },
 "nbformat": 4,
 "nbformat_minor": 5
}
